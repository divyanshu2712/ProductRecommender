{
 "cells": [
  {
   "cell_type": "code",
   "execution_count": 3,
   "id": "0b6ccbdb",
   "metadata": {},
   "outputs": [],
   "source": [
    "import pandas as pd\n",
    "import numpy as np\n",
    "import joblib\n",
    "from sklearn.metrics.pairwise import sigmoid_kernel\n",
    "from sklearn.feature_extraction.text import TfidfVectorizer"
   ]
  },
  {
   "cell_type": "code",
   "execution_count": 4,
   "id": "ed321b8c",
   "metadata": {},
   "outputs": [],
   "source": [
    "df=pd.read_csv(\"Product.csv\")"
   ]
  },
  {
   "cell_type": "code",
   "execution_count": 5,
   "id": "0fe3729e",
   "metadata": {},
   "outputs": [
    {
     "data": {
      "text/html": [
       "<div>\n",
       "<style scoped>\n",
       "    .dataframe tbody tr th:only-of-type {\n",
       "        vertical-align: middle;\n",
       "    }\n",
       "\n",
       "    .dataframe tbody tr th {\n",
       "        vertical-align: top;\n",
       "    }\n",
       "\n",
       "    .dataframe thead th {\n",
       "        text-align: right;\n",
       "    }\n",
       "</style>\n",
       "<table border=\"1\" class=\"dataframe\">\n",
       "  <thead>\n",
       "    <tr style=\"text-align: right;\">\n",
       "      <th></th>\n",
       "      <th>title</th>\n",
       "      <th>Category</th>\n",
       "      <th>selling_price</th>\n",
       "      <th>product_rating</th>\n",
       "      <th>user_id</th>\n",
       "      <th>links</th>\n",
       "    </tr>\n",
       "  </thead>\n",
       "  <tbody>\n",
       "    <tr>\n",
       "      <th>0</th>\n",
       "      <td>Alisha Solid Women's Cycling Shorts</td>\n",
       "      <td>\"Clothing  Women's Clothing  Lingerie, Sleep &amp;...</td>\n",
       "      <td>999</td>\n",
       "      <td>5.0</td>\n",
       "      <td>19</td>\n",
       "      <td>https://m.media-amazon.com/images/I/51MmfNZb6T...</td>\n",
       "    </tr>\n",
       "    <tr>\n",
       "      <th>1</th>\n",
       "      <td>FabHomeDecor Fabric Double Sofa Bed</td>\n",
       "      <td>\"Furniture  Living Room Furniture  Sofa Beds &amp;...</td>\n",
       "      <td>32157</td>\n",
       "      <td>3.0</td>\n",
       "      <td>131</td>\n",
       "      <td>/static/img/Image_not_available.png\\n</td>\n",
       "    </tr>\n",
       "    <tr>\n",
       "      <th>2</th>\n",
       "      <td>AW Bellies</td>\n",
       "      <td>\"Footwear  Women's Footwear  Ballerinas  AW Be...</td>\n",
       "      <td>999</td>\n",
       "      <td>1.6</td>\n",
       "      <td>166</td>\n",
       "      <td>https://m.media-amazon.com/images/I/61DlDX5L0e...</td>\n",
       "    </tr>\n",
       "    <tr>\n",
       "      <th>3</th>\n",
       "      <td>Alisha Solid Women's Cycling Shorts</td>\n",
       "      <td>\"Clothing  Women's Clothing  Lingerie, Sleep &amp;...</td>\n",
       "      <td>699</td>\n",
       "      <td>3.4</td>\n",
       "      <td>12</td>\n",
       "      <td>https://m.media-amazon.com/images/I/51MmfNZb6T...</td>\n",
       "    </tr>\n",
       "    <tr>\n",
       "      <th>4</th>\n",
       "      <td>Sicons All Purpose Arnica Dog Shampoo</td>\n",
       "      <td>\"Pet Supplies  Grooming  Skin &amp; Coat Care  Sha...</td>\n",
       "      <td>220</td>\n",
       "      <td>2.9</td>\n",
       "      <td>137</td>\n",
       "      <td>https://m.media-amazon.com/images/I/61OCfq7o8F...</td>\n",
       "    </tr>\n",
       "  </tbody>\n",
       "</table>\n",
       "</div>"
      ],
      "text/plain": [
       "                                   title  \\\n",
       "0    Alisha Solid Women's Cycling Shorts   \n",
       "1    FabHomeDecor Fabric Double Sofa Bed   \n",
       "2                             AW Bellies   \n",
       "3    Alisha Solid Women's Cycling Shorts   \n",
       "4  Sicons All Purpose Arnica Dog Shampoo   \n",
       "\n",
       "                                            Category selling_price  \\\n",
       "0  \"Clothing  Women's Clothing  Lingerie, Sleep &...           999   \n",
       "1  \"Furniture  Living Room Furniture  Sofa Beds &...         32157   \n",
       "2  \"Footwear  Women's Footwear  Ballerinas  AW Be...           999   \n",
       "3  \"Clothing  Women's Clothing  Lingerie, Sleep &...           699   \n",
       "4  \"Pet Supplies  Grooming  Skin & Coat Care  Sha...           220   \n",
       "\n",
       "   product_rating  user_id                                              links  \n",
       "0             5.0       19  https://m.media-amazon.com/images/I/51MmfNZb6T...  \n",
       "1             3.0      131              /static/img/Image_not_available.png\\n  \n",
       "2             1.6      166  https://m.media-amazon.com/images/I/61DlDX5L0e...  \n",
       "3             3.4       12  https://m.media-amazon.com/images/I/51MmfNZb6T...  \n",
       "4             2.9      137  https://m.media-amazon.com/images/I/61OCfq7o8F...  "
      ]
     },
     "execution_count": 5,
     "metadata": {},
     "output_type": "execute_result"
    }
   ],
   "source": [
    "df.head()"
   ]
  },
  {
   "cell_type": "code",
   "execution_count": 6,
   "id": "f4efb173",
   "metadata": {},
   "outputs": [
    {
     "data": {
      "text/html": [
       "<div>\n",
       "<style scoped>\n",
       "    .dataframe tbody tr th:only-of-type {\n",
       "        vertical-align: middle;\n",
       "    }\n",
       "\n",
       "    .dataframe tbody tr th {\n",
       "        vertical-align: top;\n",
       "    }\n",
       "\n",
       "    .dataframe thead th {\n",
       "        text-align: right;\n",
       "    }\n",
       "</style>\n",
       "<table border=\"1\" class=\"dataframe\">\n",
       "  <thead>\n",
       "    <tr style=\"text-align: right;\">\n",
       "      <th></th>\n",
       "      <th>product_rating</th>\n",
       "      <th>user_id</th>\n",
       "    </tr>\n",
       "  </thead>\n",
       "  <tbody>\n",
       "    <tr>\n",
       "      <th>count</th>\n",
       "      <td>31952.000000</td>\n",
       "      <td>31952.000000</td>\n",
       "    </tr>\n",
       "    <tr>\n",
       "      <th>mean</th>\n",
       "      <td>3.440589</td>\n",
       "      <td>99.534646</td>\n",
       "    </tr>\n",
       "    <tr>\n",
       "      <th>std</th>\n",
       "      <td>1.075193</td>\n",
       "      <td>57.899824</td>\n",
       "    </tr>\n",
       "    <tr>\n",
       "      <th>min</th>\n",
       "      <td>1.000000</td>\n",
       "      <td>0.000000</td>\n",
       "    </tr>\n",
       "    <tr>\n",
       "      <th>25%</th>\n",
       "      <td>2.700000</td>\n",
       "      <td>49.000000</td>\n",
       "    </tr>\n",
       "    <tr>\n",
       "      <th>50%</th>\n",
       "      <td>3.800000</td>\n",
       "      <td>99.000000</td>\n",
       "    </tr>\n",
       "    <tr>\n",
       "      <th>75%</th>\n",
       "      <td>4.200000</td>\n",
       "      <td>149.000000</td>\n",
       "    </tr>\n",
       "    <tr>\n",
       "      <th>max</th>\n",
       "      <td>5.000000</td>\n",
       "      <td>200.000000</td>\n",
       "    </tr>\n",
       "  </tbody>\n",
       "</table>\n",
       "</div>"
      ],
      "text/plain": [
       "       product_rating       user_id\n",
       "count    31952.000000  31952.000000\n",
       "mean         3.440589     99.534646\n",
       "std          1.075193     57.899824\n",
       "min          1.000000      0.000000\n",
       "25%          2.700000     49.000000\n",
       "50%          3.800000     99.000000\n",
       "75%          4.200000    149.000000\n",
       "max          5.000000    200.000000"
      ]
     },
     "execution_count": 6,
     "metadata": {},
     "output_type": "execute_result"
    }
   ],
   "source": [
    "df.describe()"
   ]
  },
  {
   "cell_type": "code",
   "execution_count": 7,
   "id": "a09b48d0",
   "metadata": {},
   "outputs": [
    {
     "name": "stdout",
     "output_type": "stream",
     "text": [
      "<class 'pandas.core.frame.DataFrame'>\n",
      "RangeIndex: 31952 entries, 0 to 31951\n",
      "Data columns (total 6 columns):\n",
      " #   Column          Non-Null Count  Dtype  \n",
      "---  ------          --------------  -----  \n",
      " 0   title           31952 non-null  object \n",
      " 1   Category        31952 non-null  object \n",
      " 2   selling_price   31874 non-null  object \n",
      " 3   product_rating  31952 non-null  float64\n",
      " 4   user_id         31952 non-null  int64  \n",
      " 5   links           31952 non-null  object \n",
      "dtypes: float64(1), int64(1), object(4)\n",
      "memory usage: 1.5+ MB\n"
     ]
    }
   ],
   "source": [
    "df.info()"
   ]
  },
  {
   "cell_type": "code",
   "execution_count": 8,
   "id": "2cf58a73",
   "metadata": {},
   "outputs": [
    {
     "data": {
      "text/plain": [
       "title              0\n",
       "Category           0\n",
       "selling_price     78\n",
       "product_rating     0\n",
       "user_id            0\n",
       "links              0\n",
       "dtype: int64"
      ]
     },
     "execution_count": 8,
     "metadata": {},
     "output_type": "execute_result"
    }
   ],
   "source": [
    "df.isna().sum()"
   ]
  },
  {
   "cell_type": "code",
   "execution_count": 9,
   "id": "5f0d7ee0",
   "metadata": {},
   "outputs": [],
   "source": [
    "df.dropna(inplace=True)"
   ]
  },
  {
   "cell_type": "code",
   "execution_count": 10,
   "id": "0e818fe6",
   "metadata": {},
   "outputs": [
    {
     "data": {
      "text/plain": [
       "6"
      ]
     },
     "execution_count": 10,
     "metadata": {},
     "output_type": "execute_result"
    }
   ],
   "source": [
    "df.duplicated().sum()"
   ]
  },
  {
   "cell_type": "code",
   "execution_count": 11,
   "id": "ed375828",
   "metadata": {},
   "outputs": [],
   "source": [
    "df.drop_duplicates(inplace=True)"
   ]
  },
  {
   "cell_type": "code",
   "execution_count": 16,
   "id": "abd62ba5",
   "metadata": {},
   "outputs": [
    {
     "data": {
      "text/plain": [
       "(23045, 6)"
      ]
     },
     "execution_count": 16,
     "metadata": {},
     "output_type": "execute_result"
    }
   ],
   "source": [
    "df.shape"
   ]
  },
  {
   "cell_type": "code",
   "execution_count": 17,
   "id": "e00d669f",
   "metadata": {},
   "outputs": [],
   "source": [
    "df.drop_duplicates('title',inplace=True)"
   ]
  },
  {
   "cell_type": "code",
   "execution_count": 18,
   "id": "3283a37f",
   "metadata": {},
   "outputs": [],
   "source": [
    "tfv = TfidfVectorizer(min_df=3,strip_accents='unicode',analyzer='word',\n",
    "token_pattern=r'\\w{1,}',ngram_range=(1,3),stop_words=\"english\")"
   ]
  },
  {
   "cell_type": "code",
   "execution_count": 19,
   "id": "3259ac68",
   "metadata": {},
   "outputs": [],
   "source": [
    "tfv_matrix=tfv.fit_transform(df['title'])"
   ]
  },
  {
   "cell_type": "code",
   "execution_count": 20,
   "id": "dda25be3",
   "metadata": {},
   "outputs": [],
   "source": [
    "sig= sigmoid_kernel(tfv_matrix,tfv_matrix)"
   ]
  },
  {
   "cell_type": "code",
   "execution_count": 21,
   "id": "544c84f5",
   "metadata": {},
   "outputs": [
    {
     "data": {
      "text/plain": [
       "array([0.76160949, 0.76159416, 0.76159416, ..., 0.76159546, 0.76159416,\n",
       "       0.76159436])"
      ]
     },
     "execution_count": 21,
     "metadata": {},
     "output_type": "execute_result"
    }
   ],
   "source": [
    "sig[0]"
   ]
  },
  {
   "cell_type": "code",
   "execution_count": 22,
   "id": "6d09d5a5",
   "metadata": {},
   "outputs": [],
   "source": [
    "indexs=pd.Series(df.index,index=df[\"title\"]).drop_duplicates()"
   ]
  },
  {
   "cell_type": "code",
   "execution_count": 23,
   "id": "685bc263",
   "metadata": {},
   "outputs": [
    {
     "data": {
      "text/plain": [
       "title\n",
       "Alisha Solid Women's Cycling Shorts                                                                             0\n",
       "FabHomeDecor Fabric Double Sofa Bed                                                                             1\n",
       "AW Bellies                                                                                                      2\n",
       "Sicons All Purpose Arnica Dog Shampoo                                                                           4\n",
       "Eternal Gandhi Super Series Crystal Paper Weights  with Silver Finish                                           5\n",
       "                                                                                                            ...  \n",
       "Whiskas (+1 year) Ocean Fish 3 kg Dry Adult Cat Food                                                        31947\n",
       "BASE 41 Women Solid Round Neck Red T-Shirt                                                                  31948\n",
       "HRX by Hrithik Roshan Solid Women Black Tights                                                              31949\n",
       "Revital Men Multivitamin with Calcium, Zinc & Ginseng for Immunity, Strong Bones & Energy  (30 Capsules)    31950\n",
       "Nevis Women Beige Hand-held Bag - Regular Size  (Pack of: 3)                                                31951\n",
       "Length: 23045, dtype: int64"
      ]
     },
     "execution_count": 23,
     "metadata": {},
     "output_type": "execute_result"
    }
   ],
   "source": [
    "indexs"
   ]
  },
  {
   "cell_type": "code",
   "execution_count": 24,
   "id": "c0f10f63",
   "metadata": {},
   "outputs": [
    {
     "data": {
      "text/plain": [
       "array([0.76159416, 0.76159416, 0.76159416, ..., 0.76159416, 0.76159416,\n",
       "       0.76159416])"
      ]
     },
     "execution_count": 24,
     "metadata": {},
     "output_type": "execute_result"
    }
   ],
   "source": [
    "sig[50]"
   ]
  },
  {
   "cell_type": "code",
   "execution_count": 25,
   "id": "a3f4406f",
   "metadata": {},
   "outputs": [],
   "source": [
    "indexs=indexs.reset_index()"
   ]
  },
  {
   "cell_type": "code",
   "execution_count": 26,
   "id": "06be643f",
   "metadata": {},
   "outputs": [
    {
     "data": {
      "text/plain": [
       "13927"
      ]
     },
     "execution_count": 26,
     "metadata": {},
     "output_type": "execute_result"
    }
   ],
   "source": [
    "indexs[indexs['title']==\"ITWOSERVICES CRICKET NET 100X10 CRICKET NET NYLON HDPE Cricket Net  (Green)\"].index[0]"
   ]
  },
  {
   "cell_type": "code",
   "execution_count": 27,
   "id": "55bb7165",
   "metadata": {},
   "outputs": [],
   "source": [
    "def giverecomm(title,sig=sig):\n",
    "  idx=indexs[indexs['title']==title].index[0]\n",
    "  sig_scores=list(enumerate(sig[idx]))\n",
    "  sig_scores=sorted(sig_scores,key= lambda x:x[1],reverse=True)\n",
    "  sig_scores=sig_scores[1:11]\n",
    "\n",
    "  product_index=[i[0] for i in sig_scores]\n",
    "\n",
    "  return df['title'].iloc[product_index]"
   ]
  },
  {
   "cell_type": "code",
   "execution_count": 28,
   "id": "da951fde",
   "metadata": {},
   "outputs": [
    {
     "name": "stdout",
     "output_type": "stream",
     "text": [
      "INDRICKA Casual Roll-up Sleeve Solid Women's Top\n"
     ]
    },
    {
     "data": {
      "text/plain": [
       "1023        INDRICKA Casual Full Sleeve Solid Women's Top\n",
       "3187    PURYS Casual Roll-up Sleeve Printed Women's Wh...\n",
       "9641    Ir Acc Casual Roll-up Sleeve Self Design Women...\n",
       "989     INDRICKA Casual Butterfly Sleeve Solid Women's...\n",
       "656      Imagination Casual Full Sleeve Solid Women's Top\n",
       "661           Besiva Casual Full Sleeve Solid Women's Top\n",
       "863           Schwof Casual Full Sleeve Solid Women's Top\n",
       "2946    I Am For You Casual Full Sleeve Solid Women's Top\n",
       "9609         De Moza Casual Full Sleeve Solid Women's Top\n",
       "9809            Bebo Casual Full Sleeve Solid Women's Top\n",
       "Name: title, dtype: object"
      ]
     },
     "execution_count": 28,
     "metadata": {},
     "output_type": "execute_result"
    }
   ],
   "source": [
    "m=df['title'][1000]\n",
    "print(m)\n",
    "giverecomm(m)"
   ]
  },
  {
   "cell_type": "markdown",
   "id": "7b8f4b9d",
   "metadata": {},
   "source": [
    "## Saving Files"
   ]
  },
  {
   "cell_type": "code",
   "execution_count": 29,
   "id": "0e166222",
   "metadata": {},
   "outputs": [
    {
     "data": {
      "text/plain": [
       "['content.sav']"
      ]
     },
     "execution_count": 29,
     "metadata": {},
     "output_type": "execute_result"
    }
   ],
   "source": [
    "joblib.dump(df,\"content.sav\")"
   ]
  },
  {
   "cell_type": "code",
   "execution_count": 30,
   "id": "72b4e085",
   "metadata": {},
   "outputs": [],
   "source": [
    "for i in range(len(sig)):\n",
    "    np.save(f\"Sigmoid/sig{i}.npy\",sig[i])"
   ]
  },
  {
   "cell_type": "code",
   "execution_count": 40,
   "id": "41d2a9a2",
   "metadata": {},
   "outputs": [
    {
     "data": {
      "text/plain": [
       "['Indexs.sav']"
      ]
     },
     "execution_count": 40,
     "metadata": {},
     "output_type": "execute_result"
    }
   ],
   "source": [
    "joblib.dump(indexs,\"Indexs.sav\")"
   ]
  },
  {
   "cell_type": "code",
   "execution_count": null,
   "id": "59dcc9d6",
   "metadata": {},
   "outputs": [],
   "source": []
  },
  {
   "cell_type": "code",
   "execution_count": null,
   "id": "240ff593",
   "metadata": {},
   "outputs": [],
   "source": []
  }
 ],
 "metadata": {
  "kernelspec": {
   "display_name": "Python 3 (ipykernel)",
   "language": "python",
   "name": "python3"
  },
  "language_info": {
   "codemirror_mode": {
    "name": "ipython",
    "version": 3
   },
   "file_extension": ".py",
   "mimetype": "text/x-python",
   "name": "python",
   "nbconvert_exporter": "python",
   "pygments_lexer": "ipython3",
   "version": "3.10.7"
  }
 },
 "nbformat": 4,
 "nbformat_minor": 5
}
