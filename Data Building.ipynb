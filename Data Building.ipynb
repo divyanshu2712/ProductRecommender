{
 "cells": [
  {
   "cell_type": "code",
   "execution_count": 192,
   "id": "1e44e1e8",
   "metadata": {},
   "outputs": [],
   "source": [
    "import numpy as np\n",
    "import pandas as pd\n",
    "import random"
   ]
  },
  {
   "cell_type": "code",
   "execution_count": 193,
   "id": "6847091f",
   "metadata": {},
   "outputs": [
    {
     "name": "stderr",
     "output_type": "stream",
     "text": [
      "C:\\Users\\LENOVO\\AppData\\Local\\Temp\\ipykernel_7260\\3030503644.py:7: SettingWithCopyWarning: \n",
      "A value is trying to be set on a copy of a slice from a DataFrame\n",
      "\n",
      "See the caveats in the documentation: https://pandas.pydata.org/pandas-docs/stable/user_guide/indexing.html#returning-a-view-versus-a-copy\n",
      "  a['product_rating'][i]=round(random.uniform(1,5),1)\n",
      "C:\\Users\\LENOVO\\AppData\\Local\\Temp\\ipykernel_7260\\3030503644.py:9: SettingWithCopyWarning: \n",
      "A value is trying to be set on a copy of a slice from a DataFrame\n",
      "\n",
      "See the caveats in the documentation: https://pandas.pydata.org/pandas-docs/stable/user_guide/indexing.html#returning-a-view-versus-a-copy\n",
      "  a['product_rating'][i]=float(a['product_rating'][i])\n"
     ]
    }
   ],
   "source": [
    "df=pd.read_csv(\"Cleaned_data.csv\")\n",
    "a=pd.read_csv('db.csv')\n",
    "a.drop(['uniq_id','crawl_timestamp','description','pid','is_FK_Advantage_product','overall_rating','brand','product_url','product_specifications','discounted_price'],axis=1,inplace=True)\n",
    "\n",
    "for i in a.index:\n",
    "    if a['product_rating'][i]=='No rating available':\n",
    "        a['product_rating'][i]=round(random.uniform(1,5),1)\n",
    "    else:\n",
    "        a['product_rating'][i]=float(a['product_rating'][i])\n",
    "\n",
    "a['product_rating'] = a['product_rating'].astype('float')"
   ]
  },
  {
   "cell_type": "code",
   "execution_count": 194,
   "id": "14c52f1c",
   "metadata": {},
   "outputs": [],
   "source": [
    "a.rename(columns={'product_name':'title','product_category_tree':'Category','retail_price':'selling_price','image':'image_links'},inplace=True)"
   ]
  },
  {
   "cell_type": "code",
   "execution_count": 195,
   "id": "f5e66898",
   "metadata": {},
   "outputs": [
    {
     "name": "stderr",
     "output_type": "stream",
     "text": [
      "C:\\Users\\LENOVO\\AppData\\Local\\Temp\\ipykernel_7260\\94294368.py:6: SettingWithCopyWarning: \n",
      "A value is trying to be set on a copy of a slice from a DataFrame\n",
      "\n",
      "See the caveats in the documentation: https://pandas.pydata.org/pandas-docs/stable/user_guide/indexing.html#returning-a-view-versus-a-copy\n",
      "  a['Category'][i]=m\n"
     ]
    }
   ],
   "source": [
    "for i in a.index:\n",
    "    m=a['Category'][i][1:-2]\n",
    "    m=m.replace(\">>\",\"\",3)\n",
    "    ind=m.find('>>')\n",
    "    m=m[:ind]\n",
    "    a['Category'][i]=m"
   ]
  },
  {
   "cell_type": "code",
   "execution_count": 196,
   "id": "8169e46b",
   "metadata": {},
   "outputs": [],
   "source": [
    "a['user_id']=np.random.randint(0,201,size=len(a))"
   ]
  },
  {
   "cell_type": "code",
   "execution_count": 197,
   "id": "6274d004",
   "metadata": {},
   "outputs": [],
   "source": [
    "frames=[a,df]\n",
    "df=pd.concat(frames)"
   ]
  },
  {
   "cell_type": "code",
   "execution_count": 198,
   "id": "f6707e8f",
   "metadata": {},
   "outputs": [],
   "source": [
    "df.to_csv(\"Product.csv\")"
   ]
  },
  {
   "cell_type": "code",
   "execution_count": null,
   "id": "2120504f",
   "metadata": {},
   "outputs": [],
   "source": []
  },
  {
   "cell_type": "code",
   "execution_count": null,
   "id": "b0b60b48",
   "metadata": {},
   "outputs": [],
   "source": []
  },
  {
   "cell_type": "code",
   "execution_count": null,
   "id": "58331b20",
   "metadata": {},
   "outputs": [],
   "source": []
  }
 ],
 "metadata": {
  "kernelspec": {
   "display_name": "Python 3 (ipykernel)",
   "language": "python",
   "name": "python3"
  },
  "language_info": {
   "codemirror_mode": {
    "name": "ipython",
    "version": 3
   },
   "file_extension": ".py",
   "mimetype": "text/x-python",
   "name": "python",
   "nbconvert_exporter": "python",
   "pygments_lexer": "ipython3",
   "version": "3.10.7"
  }
 },
 "nbformat": 4,
 "nbformat_minor": 5
}
